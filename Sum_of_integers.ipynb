{
  "nbformat": 4,
  "nbformat_minor": 0,
  "metadata": {
    "colab": {
      "name": "Sum of integers.ipynb",
      "provenance": [],
      "authorship_tag": "ABX9TyO4zPyKERcCi34yq4PZ8NPo",
      "include_colab_link": true
    },
    "kernelspec": {
      "name": "python3",
      "display_name": "Python 3"
    },
    "language_info": {
      "name": "python"
    }
  },
  "cells": [
    {
      "cell_type": "markdown",
      "metadata": {
        "id": "view-in-github",
        "colab_type": "text"
      },
      "source": [
        "<a href=\"https://colab.research.google.com/github/Maars2021/Maars2021/blob/main/Sum_of_integers.ipynb\" target=\"_parent\"><img src=\"https://colab.research.google.com/assets/colab-badge.svg\" alt=\"Open In Colab\"/></a>"
      ]
    },
    {
      "cell_type": "code",
      "metadata": {
        "colab": {
          "base_uri": "https://localhost:8080/"
        },
        "id": "0AgrQZax6wG7",
        "outputId": "e82e85f5-8ba3-48b6-af11-6bd512655be9"
      },
      "source": [
        "def add (x,y): #define a function that adds two variables,colon\n",
        "    result = x+y  #what you want variables to do\n",
        "    print(x,\"+\", y, \"=\", result) #function,result,print(commas)\n",
        "\n",
        "n1 = int(input(\"enter the first number:\")) #integer, text, colon\n",
        "n2 = int(input(\"enter the second number:\"))\n",
        "\n",
        "add(n1,n2)\n"
      ],
      "execution_count": 2,
      "outputs": [
        {
          "output_type": "stream",
          "name": "stdout",
          "text": [
            "enter the first number:23\n",
            "enter the second number:45\n",
            "23 + 45 = 68\n"
          ]
        }
      ]
    },
    {
      "cell_type": "markdown",
      "metadata": {
        "id": "fODpNwwc_D22"
      },
      "source": [
        "1. define a function - add\n",
        "2. "
      ]
    }
  ]
}